{
 "cells": [
  {
   "cell_type": "markdown",
   "id": "21239a5c",
   "metadata": {},
   "source": [
    "# Discovering the KdV equation from data"
   ]
  },
  {
   "cell_type": "code",
   "execution_count": null,
   "id": "f1a2ccff",
   "metadata": {},
   "outputs": [],
   "source": [
    "import matplotlib.pyplot as plt\n",
    "import numpy as np\n",
    "from scipy.io import loadmat\n",
    "\n",
    "from pysindy import FiniteDifference # Borrowing finite difference function from PySINDy \n",
    "from pysr import PySRRegressor"
   ]
  },
  {
   "cell_type": "markdown",
   "id": "6116b53e",
   "metadata": {},
   "source": [
    "## Importing the Dataset"
   ]
  },
  {
   "cell_type": "code",
   "execution_count": null,
   "id": "5b68addb",
   "metadata": {},
   "outputs": [],
   "source": [
    "KdV_data = loadmat('./kdv_data.mat')"
   ]
  },
  {
   "cell_type": "code",
   "execution_count": null,
   "id": "228faaa9",
   "metadata": {},
   "outputs": [],
   "source": [
    "u = KdV_data['u']\n",
    "x = KdV_data['x'].flatten()\n",
    "t = KdV_data['t'].flatten()\n",
    "dt = t[1] - t[0]\n",
    "dx = x[1] - x[0]"
   ]
  },
  {
   "cell_type": "markdown",
   "id": "bb8d6f2c",
   "metadata": {},
   "source": [
    "Checking the shape of the data"
   ]
  },
  {
   "cell_type": "code",
   "execution_count": null,
   "id": "a617d15a",
   "metadata": {},
   "outputs": [],
   "source": [
    "print(' Number of time points:', t.shape, '\\n Number of spatial points:', x.shape, '\\n Shape of the u:', u.shape)"
   ]
  },
  {
   "cell_type": "markdown",
   "id": "a2fcd897",
   "metadata": {},
   "source": [
    "Therefore, the data imported has the shape u(T,X), with T being time, and X being space.\n",
    "You should also check that the time and space are indeed sampled at fixed frequency (open `t` and `x` to check!)"
   ]
  },
  {
   "cell_type": "markdown",
   "id": "558d1ba3",
   "metadata": {},
   "source": [
    "## Visualise\n",
    "\n",
    "It is always a good idea to have a sanity check that the data make sense and see if there are potential challenges."
   ]
  },
  {
   "cell_type": "code",
   "execution_count": null,
   "id": "2a7fa2dd",
   "metadata": {},
   "outputs": [],
   "source": [
    "plt.plot(x,u[-1,:])\n",
    "plt.xlabel('x')\n",
    "plt.ylabel('u')\n",
    "plt.title('KdV solution at final time')\n",
    "plt.show()"
   ]
  },
  {
   "cell_type": "code",
   "execution_count": null,
   "id": "982c8b5c",
   "metadata": {},
   "outputs": [],
   "source": [
    "plt.plot(t,u[:,200])\n",
    "plt.xlabel('t')\n",
    "plt.ylabel('u')\n",
    "plt.title('Temporal evolution at the middle of the spatial domain')\n",
    "plt.show()"
   ]
  },
  {
   "cell_type": "code",
   "execution_count": null,
   "id": "b6ce8e8c",
   "metadata": {},
   "outputs": [],
   "source": [
    "# Plot derivative results\n",
    "plt.figure()\n",
    "plt.pcolormesh(x, t, u)\n",
    "plt.xlabel('x', fontsize=16)\n",
    "plt.ylabel('t', fontsize=16)\n",
    "plt.title(r'$u(x, t)$', fontsize=16)\n"
   ]
  },
  {
   "cell_type": "markdown",
   "id": "23213de4",
   "metadata": {},
   "source": [
    "Things to look out for:\n",
    "- What is the scale of time `t`, `x`, and `u`?\n",
    "    - That gives you a sense of the expected scale of the derivatives. \n",
    "    - Do you need to rescale things to make the learning easier?\n",
    "- What's the signal time scale and length scale? \n",
    "    - Am I sampling frequently enough (e.g. above Nyquist frequency)?\n",
    "- If the signal is noisy, can you at least make out the lengthscale and time scale? That will help you choose the right derivative scheme. For example, if it's too noisy but frequently sampled, may be you want to use weak formulation to filter the frequency signal."
   ]
  },
  {
   "cell_type": "markdown",
   "id": "69d3c1ce",
   "metadata": {},
   "source": [
    "## Learning from analytically derived temporal and spatial derivatives (The easier option)\n",
    "To get started, let's do the easier option of making use of the (noiseless) analytically derived spatial and temporal derivatives. \n",
    "\n",
    "Note that normally, derivatives are not provided as part of the dataset. These providede derivatives are purely for demonstration of the package."
   ]
  },
  {
   "cell_type": "code",
   "execution_count": null,
   "id": "dd08880b",
   "metadata": {},
   "outputs": [],
   "source": [
    "# Loading the provided derivatives\n",
    "u_x = KdV_data['u_x'] # Already flattened and ordered in columns of features\n",
    "u_t = KdV_data['u_t'] # Already flattened \n",
    "\n",
    "print('Data Loading and success\\n')\n"
   ]
  },
  {
   "cell_type": "markdown",
   "id": "b483ac08",
   "metadata": {},
   "source": [
    "The variable `u_x` contain the spatial derivatives`[u ux uxx uxxx uxxxx]` at each location, stored as flatten columns.\n",
    "The variable `u_t` contain the time derivatives at each location, stored as flatten columns."
   ]
  },
  {
   "cell_type": "code",
   "execution_count": null,
   "id": "1b446fc4",
   "metadata": {},
   "outputs": [],
   "source": [
    "\n",
    "model = PySRRegressor ## Your Code here\n",
    "model.fit ## Your Code here\n",
    "print('KdV Train Test \\n')\n",
    "print(model.get_best().equation)"
   ]
  },
  {
   "cell_type": "markdown",
   "id": "598dd966",
   "metadata": {},
   "source": [
    "The learning out is expressed as expressions of `x_0`, `x_1`...`x_5`, which corresponds to `u`, `ux`...`uxxxx`, or each column of the variable `u_x`."
   ]
  },
  {
   "cell_type": "markdown",
   "id": "976882c2",
   "metadata": {},
   "source": [
    "## Learning from FD approximation to temporal and spatial derivatives (The realistic option)\n",
    "In reality, data of the derivatives are rarely provided. Instead, it is approximated numerically.\n",
    "\n",
    "There are many methods to approximate derivatives from given data, from smoothing through Golay filter, to Fourier decomposition, to weak formulation. \n",
    "Here, we use the most classic one - Finite Difference, and we are going to borrow the in-built `FiniteDifference` function from `PySINDy`."
   ]
  },
  {
   "cell_type": "markdown",
   "id": "731799b7",
   "metadata": {},
   "source": [
    "### Generating the derivatives"
   ]
  },
  {
   "cell_type": "code",
   "execution_count": null,
   "id": "163b16d0",
   "metadata": {},
   "outputs": [],
   "source": [
    "# Time and space derivatives\n",
    "ut = ## Your code here\n",
    "ux = FiniteDifference(d=1, axis=1)._differentiate(u, dx)\n",
    "## Your code here"
   ]
  },
  {
   "cell_type": "code",
   "execution_count": null,
   "id": "f8f80268",
   "metadata": {},
   "outputs": [],
   "source": [
    "target = ut.flatten()\n",
    "feature = ## Your code here"
   ]
  },
  {
   "cell_type": "code",
   "execution_count": null,
   "id": "3cda7f81",
   "metadata": {},
   "outputs": [],
   "source": [
    "model_real = PySRRegressor ## Your code here\n",
    "\n",
    "model_real.fit(feature,target)\n",
    "print('KdV Train Test \\n')\n",
    "print(model_real.get_best().equation)"
   ]
  },
  {
   "cell_type": "markdown",
   "id": "6aeee59c",
   "metadata": {},
   "source": [
    "The learning result may not converge to the equation you want. Why is that the case?\n",
    "(Hint: Finite Difference is an approximation, not )\n",
    "\n",
    "Try to play around with different \n",
    "- binary / unary operators,\n",
    "- deriviative method, \n",
    "- max depth,\n",
    "- nested constraints, \n",
    "- complexity of each operator,\n",
    "- populations and population size.\n",
    "\n",
    "Which combo of hyperparameters give you better/worse result? Why?\n"
   ]
  }
 ],
 "metadata": {
  "kernelspec": {
   "display_name": ".venv",
   "language": "python",
   "name": "python3"
  },
  "language_info": {
   "codemirror_mode": {
    "name": "ipython",
    "version": 3
   },
   "file_extension": ".py",
   "mimetype": "text/x-python",
   "name": "python",
   "nbconvert_exporter": "python",
   "pygments_lexer": "ipython3",
   "version": "3.12.3"
  }
 },
 "nbformat": 4,
 "nbformat_minor": 5
}
