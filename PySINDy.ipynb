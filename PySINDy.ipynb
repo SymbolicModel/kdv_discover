{
 "cells": [
  {
   "cell_type": "markdown",
   "id": "21239a5c",
   "metadata": {},
   "source": [
    "# Discovering the KdV equation from data"
   ]
  },
  {
   "cell_type": "code",
   "execution_count": null,
   "id": "f1a2ccff",
   "metadata": {},
   "outputs": [],
   "source": [
    "import pysindy as ps\n",
    "\n",
    "import matplotlib.pyplot as plt\n",
    "import numpy as np\n",
    "from scipy.io import loadmat\n"
   ]
  },
  {
   "cell_type": "markdown",
   "id": "6116b53e",
   "metadata": {},
   "source": [
    "## Importing the Dataset"
   ]
  },
  {
   "cell_type": "code",
   "execution_count": null,
   "id": "5b68addb",
   "metadata": {},
   "outputs": [],
   "source": [
    "KdV_data = loadmat('./kdv_data.mat')"
   ]
  },
  {
   "cell_type": "code",
   "execution_count": null,
   "id": "228faaa9",
   "metadata": {},
   "outputs": [],
   "source": [
    "u = KdV_data['u']\n",
    "x = KdV_data['x'].flatten()\n",
    "t = KdV_data['t'].flatten()\n",
    "dt = t[1] - t[0]\n",
    "dx = x[1] - x[0]"
   ]
  },
  {
   "cell_type": "markdown",
   "id": "bb8d6f2c",
   "metadata": {},
   "source": [
    "Checking the shape of the data"
   ]
  },
  {
   "cell_type": "code",
   "execution_count": null,
   "id": "a617d15a",
   "metadata": {},
   "outputs": [],
   "source": [
    "print(' Number of time points:', t.shape, '\\n Number of spatial points:', x.shape, '\\n Shape of the u:', u.shape)"
   ]
  },
  {
   "cell_type": "markdown",
   "id": "a2fcd897",
   "metadata": {},
   "source": [
    "Therefore, the data imported has the shape u(T,X), with T being time, and X being space.\n",
    "You should also check that the time and space are indeed sampled at fixed frequency (open `t` and `x` to check!)"
   ]
  },
  {
   "cell_type": "markdown",
   "id": "558d1ba3",
   "metadata": {},
   "source": [
    "## Visualise\n",
    "\n",
    "It is always a good idea to have a sanity check that the data make sense and see if there are potential challenges."
   ]
  },
  {
   "cell_type": "code",
   "execution_count": null,
   "id": "2a7fa2dd",
   "metadata": {},
   "outputs": [],
   "source": [
    "plt.plot(x,u[-1,:])\n",
    "plt.xlabel('x')\n",
    "plt.ylabel('u')\n",
    "plt.title('KdV solution at final time')\n",
    "plt.show()"
   ]
  },
  {
   "cell_type": "code",
   "execution_count": null,
   "id": "982c8b5c",
   "metadata": {},
   "outputs": [],
   "source": [
    "plt.plot(t,u[:,200])\n",
    "plt.xlabel('t')\n",
    "plt.ylabel('u')\n",
    "plt.title('Temporal evolution at the middle of the spatial domain')\n",
    "plt.show()"
   ]
  },
  {
   "cell_type": "code",
   "execution_count": null,
   "id": "b6ce8e8c",
   "metadata": {},
   "outputs": [],
   "source": [
    "# Plot derivative results\n",
    "plt.figure()\n",
    "plt.pcolormesh(x, t, u)\n",
    "plt.xlabel('x', fontsize=16)\n",
    "plt.ylabel('t', fontsize=16)\n",
    "plt.title(r'$u(x, t)$', fontsize=16)\n"
   ]
  },
  {
   "cell_type": "markdown",
   "id": "23213de4",
   "metadata": {},
   "source": [
    "Things to look out for:\n",
    "- What is the scale of time `t`, `x`, and `u`?\n",
    "    - That gives you a sense of the expected scale of the derivatives. \n",
    "    - Do you need to rescale things to make the learning easier?\n",
    "- What's the signal time scale and length scale? \n",
    "    - Am I sampling frequently enough (e.g. above Nyquist frequency)?\n",
    "- If the signal is noisy, can you at least make out the lengthscale and time scale? That will help you choose the right derivative scheme. For example, if it's too noisy but frequently sampled, may be you want to use weak formulation to filter the frequency signal."
   ]
  },
  {
   "cell_type": "markdown",
   "id": "6b1fea52",
   "metadata": {},
   "source": [
    "# Your code here\n",
    "\n",
    "How would you prepare the data for PySINDy?\n",
    "\n",
    "Which PySINDy feature would you use?"
   ]
  },
  {
   "cell_type": "code",
   "execution_count": null,
   "id": "2ad62124",
   "metadata": {},
   "outputs": [],
   "source": [
    "# Define the library\n",
    "#   Here we use the standard PDE library, which computes the derivatives automatically (using finite difference by default)\n",
    "pde_lib = ps.PDELibrary ## Your code here\n",
    "\n",
    "# Define the optimizer \n",
    "optimizer = ps.STLSQ ## Your code here\n",
    "\n",
    "# Define the SINDy model\n",
    "model = ps.SINDy ## Your code here\n",
    "\n",
    "# Reshape the data and fit the model\n",
    "#   Note about PDELibrary and data shape:\n",
    "#   The PDELibrary expects the input data to be in the shape (T, X, D), where T is the number of time points, X is the number of spatial points, and D is the number of dimensions of the target (D=1 for scalar PDEs).\n",
    "model_data = u.T.reshape(u.shape[1],u.shape[0],1)\n",
    "\n",
    "# Call the regression algorithm\n",
    "model.fit(model_data, t=dt, feature_names=['u'])\n",
    "\n",
    "# print identified PDE\n",
    "print(\"Identified PDE: \")\n",
    "model.print()"
   ]
  }
 ],
 "metadata": {
  "kernelspec": {
   "display_name": ".venv",
   "language": "python",
   "name": "python3"
  },
  "language_info": {
   "codemirror_mode": {
    "name": "ipython",
    "version": 3
   },
   "file_extension": ".py",
   "mimetype": "text/x-python",
   "name": "python",
   "nbconvert_exporter": "python",
   "pygments_lexer": "ipython3",
   "version": "3.12.3"
  }
 },
 "nbformat": 4,
 "nbformat_minor": 5
}
